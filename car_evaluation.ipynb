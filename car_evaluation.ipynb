{
 "cells": [
  {
   "cell_type": "code",
   "execution_count": 1,
   "metadata": {},
   "outputs": [
    {
     "data": {
      "text/html": [
       "        <script type=\"text/javascript\">\n",
       "        window.PlotlyConfig = {MathJaxConfig: 'local'};\n",
       "        if (window.MathJax) {MathJax.Hub.Config({SVG: {font: \"STIX-Web\"}});}\n",
       "        if (typeof require !== 'undefined') {\n",
       "        require.undef(\"plotly\");\n",
       "        requirejs.config({\n",
       "            paths: {\n",
       "                'plotly': ['https://cdn.plot.ly/plotly-latest.min']\n",
       "            }\n",
       "        });\n",
       "        require(['plotly'], function(Plotly) {\n",
       "            window._Plotly = Plotly;\n",
       "        });\n",
       "        }\n",
       "        </script>\n",
       "        "
      ]
     },
     "metadata": {},
     "output_type": "display_data"
    }
   ],
   "source": [
    "#Importing the basic libraries\n",
    "import numpy as np\n",
    "import pandas as pd\n",
    "import matplotlib.pyplot as plt\n",
    "import plotly.offline as py\n",
    "from plotly import tools\n",
    "py.init_notebook_mode(connected=True)\n",
    "import plotly.graph_objs as go\n",
    "from sklearn.model_selection import train_test_split\n",
    "import warnings\n",
    "warnings.filterwarnings('ignore')"
   ]
  },
  {
   "cell_type": "code",
   "execution_count": 2,
   "metadata": {},
   "outputs": [
    {
     "data": {
      "text/plain": [
       "(1727, 7)"
      ]
     },
     "execution_count": 2,
     "metadata": {},
     "output_type": "execute_result"
    }
   ],
   "source": [
    "#Reading the dataset \n",
    "cars = pd.read_csv('car_data.csv')\n",
    "cars.shape\n"
   ]
  },
  {
   "cell_type": "code",
   "execution_count": 3,
   "metadata": {},
   "outputs": [],
   "source": [
    "#Since our dataset doesn't contain the name of columns, the column names were assigned \n",
    "cars.columns = ['Buying', 'Maint', 'Doors','Persons','LugBoot','Safety','Evaluation']"
   ]
  },
  {
   "cell_type": "code",
   "execution_count": 4,
   "metadata": {},
   "outputs": [
    {
     "data": {
      "text/html": [
       "<div>\n",
       "<style scoped>\n",
       "    .dataframe tbody tr th:only-of-type {\n",
       "        vertical-align: middle;\n",
       "    }\n",
       "\n",
       "    .dataframe tbody tr th {\n",
       "        vertical-align: top;\n",
       "    }\n",
       "\n",
       "    .dataframe thead th {\n",
       "        text-align: right;\n",
       "    }\n",
       "</style>\n",
       "<table border=\"1\" class=\"dataframe\">\n",
       "  <thead>\n",
       "    <tr style=\"text-align: right;\">\n",
       "      <th></th>\n",
       "      <th>Buying</th>\n",
       "      <th>Maint</th>\n",
       "      <th>Doors</th>\n",
       "      <th>Persons</th>\n",
       "      <th>LugBoot</th>\n",
       "      <th>Safety</th>\n",
       "      <th>Evaluation</th>\n",
       "    </tr>\n",
       "  </thead>\n",
       "  <tbody>\n",
       "    <tr>\n",
       "      <th>973</th>\n",
       "      <td>med</td>\n",
       "      <td>high</td>\n",
       "      <td>2</td>\n",
       "      <td>2</td>\n",
       "      <td>small</td>\n",
       "      <td>high</td>\n",
       "      <td>unacc</td>\n",
       "    </tr>\n",
       "    <tr>\n",
       "      <th>1016</th>\n",
       "      <td>med</td>\n",
       "      <td>high</td>\n",
       "      <td>3</td>\n",
       "      <td>more</td>\n",
       "      <td>small</td>\n",
       "      <td>low</td>\n",
       "      <td>unacc</td>\n",
       "    </tr>\n",
       "    <tr>\n",
       "      <th>583</th>\n",
       "      <td>high</td>\n",
       "      <td>high</td>\n",
       "      <td>3</td>\n",
       "      <td>4</td>\n",
       "      <td>big</td>\n",
       "      <td>high</td>\n",
       "      <td>acc</td>\n",
       "    </tr>\n",
       "    <tr>\n",
       "      <th>1232</th>\n",
       "      <td>med</td>\n",
       "      <td>low</td>\n",
       "      <td>3</td>\n",
       "      <td>more</td>\n",
       "      <td>small</td>\n",
       "      <td>low</td>\n",
       "      <td>unacc</td>\n",
       "    </tr>\n",
       "    <tr>\n",
       "      <th>545</th>\n",
       "      <td>high</td>\n",
       "      <td>high</td>\n",
       "      <td>2</td>\n",
       "      <td>2</td>\n",
       "      <td>big</td>\n",
       "      <td>low</td>\n",
       "      <td>unacc</td>\n",
       "    </tr>\n",
       "    <tr>\n",
       "      <th>1719</th>\n",
       "      <td>low</td>\n",
       "      <td>low</td>\n",
       "      <td>5more</td>\n",
       "      <td>more</td>\n",
       "      <td>small</td>\n",
       "      <td>med</td>\n",
       "      <td>acc</td>\n",
       "    </tr>\n",
       "    <tr>\n",
       "      <th>342</th>\n",
       "      <td>vhigh</td>\n",
       "      <td>low</td>\n",
       "      <td>2</td>\n",
       "      <td>more</td>\n",
       "      <td>small</td>\n",
       "      <td>med</td>\n",
       "      <td>unacc</td>\n",
       "    </tr>\n",
       "    <tr>\n",
       "      <th>679</th>\n",
       "      <td>high</td>\n",
       "      <td>med</td>\n",
       "      <td>3</td>\n",
       "      <td>2</td>\n",
       "      <td>med</td>\n",
       "      <td>high</td>\n",
       "      <td>unacc</td>\n",
       "    </tr>\n",
       "    <tr>\n",
       "      <th>1721</th>\n",
       "      <td>low</td>\n",
       "      <td>low</td>\n",
       "      <td>5more</td>\n",
       "      <td>more</td>\n",
       "      <td>med</td>\n",
       "      <td>low</td>\n",
       "      <td>unacc</td>\n",
       "    </tr>\n",
       "    <tr>\n",
       "      <th>1168</th>\n",
       "      <td>med</td>\n",
       "      <td>med</td>\n",
       "      <td>5more</td>\n",
       "      <td>2</td>\n",
       "      <td>big</td>\n",
       "      <td>high</td>\n",
       "      <td>unacc</td>\n",
       "    </tr>\n",
       "  </tbody>\n",
       "</table>\n",
       "</div>"
      ],
      "text/plain": [
       "     Buying Maint  Doors Persons LugBoot Safety Evaluation\n",
       "973     med  high      2       2   small   high      unacc\n",
       "1016    med  high      3    more   small    low      unacc\n",
       "583    high  high      3       4     big   high        acc\n",
       "1232    med   low      3    more   small    low      unacc\n",
       "545    high  high      2       2     big    low      unacc\n",
       "1719    low   low  5more    more   small    med        acc\n",
       "342   vhigh   low      2    more   small    med      unacc\n",
       "679    high   med      3       2     med   high      unacc\n",
       "1721    low   low  5more    more     med    low      unacc\n",
       "1168    med   med  5more       2     big   high      unacc"
      ]
     },
     "execution_count": 4,
     "metadata": {},
     "output_type": "execute_result"
    }
   ],
   "source": [
    "#Taking an overview of data\n",
    "cars.sample(10)"
   ]
  },
  {
   "cell_type": "code",
   "execution_count": 5,
   "metadata": {},
   "outputs": [
    {
     "data": {
      "text/plain": [
       "Buying        0\n",
       "Maint         0\n",
       "Doors         0\n",
       "Persons       0\n",
       "LugBoot       0\n",
       "Safety        0\n",
       "Evaluation    0\n",
       "dtype: int64"
      ]
     },
     "execution_count": 5,
     "metadata": {},
     "output_type": "execute_result"
    }
   ],
   "source": [
    "#Let's check if there are any missing values in our dataset \n",
    "cars.isnull().sum()"
   ]
  },
  {
   "cell_type": "code",
   "execution_count": 6,
   "metadata": {},
   "outputs": [
    {
     "data": {
      "text/html": [
       "<div>\n",
       "<style scoped>\n",
       "    .dataframe tbody tr th:only-of-type {\n",
       "        vertical-align: middle;\n",
       "    }\n",
       "\n",
       "    .dataframe tbody tr th {\n",
       "        vertical-align: top;\n",
       "    }\n",
       "\n",
       "    .dataframe thead th {\n",
       "        text-align: right;\n",
       "    }\n",
       "</style>\n",
       "<table border=\"1\" class=\"dataframe\">\n",
       "  <thead>\n",
       "    <tr style=\"text-align: right;\">\n",
       "      <th></th>\n",
       "      <th>Buying</th>\n",
       "      <th>Maint</th>\n",
       "      <th>Doors</th>\n",
       "      <th>Persons</th>\n",
       "      <th>LugBoot</th>\n",
       "      <th>Safety</th>\n",
       "      <th>Evaluation</th>\n",
       "    </tr>\n",
       "  </thead>\n",
       "  <tbody>\n",
       "    <tr>\n",
       "      <th>count</th>\n",
       "      <td>1727</td>\n",
       "      <td>1727</td>\n",
       "      <td>1727</td>\n",
       "      <td>1727</td>\n",
       "      <td>1727</td>\n",
       "      <td>1727</td>\n",
       "      <td>1727</td>\n",
       "    </tr>\n",
       "    <tr>\n",
       "      <th>unique</th>\n",
       "      <td>4</td>\n",
       "      <td>4</td>\n",
       "      <td>4</td>\n",
       "      <td>3</td>\n",
       "      <td>3</td>\n",
       "      <td>3</td>\n",
       "      <td>4</td>\n",
       "    </tr>\n",
       "    <tr>\n",
       "      <th>top</th>\n",
       "      <td>med</td>\n",
       "      <td>med</td>\n",
       "      <td>3</td>\n",
       "      <td>more</td>\n",
       "      <td>med</td>\n",
       "      <td>med</td>\n",
       "      <td>unacc</td>\n",
       "    </tr>\n",
       "    <tr>\n",
       "      <th>freq</th>\n",
       "      <td>432</td>\n",
       "      <td>432</td>\n",
       "      <td>432</td>\n",
       "      <td>576</td>\n",
       "      <td>576</td>\n",
       "      <td>576</td>\n",
       "      <td>1209</td>\n",
       "    </tr>\n",
       "  </tbody>\n",
       "</table>\n",
       "</div>"
      ],
      "text/plain": [
       "       Buying Maint Doors Persons LugBoot Safety Evaluation\n",
       "count    1727  1727  1727    1727    1727   1727       1727\n",
       "unique      4     4     4       3       3      3          4\n",
       "top       med   med     3    more     med    med      unacc\n",
       "freq      432   432   432     576     576    576       1209"
      ]
     },
     "execution_count": 6,
     "metadata": {},
     "output_type": "execute_result"
    }
   ],
   "source": [
    "#We see that there are no missing values in our dataset \n",
    "#Let's take a more analytical look at our dataset \n",
    "cars.describe()"
   ]
  },
  {
   "cell_type": "code",
   "execution_count": 7,
   "metadata": {},
   "outputs": [
    {
     "data": {
      "text/plain": [
       "Index(['Buying', 'Maint', 'Doors', 'Persons', 'LugBoot', 'Safety',\n",
       "       'Evaluation'],\n",
       "      dtype='object')"
      ]
     },
     "execution_count": 7,
     "metadata": {},
     "output_type": "execute_result"
    }
   ],
   "source": [
    "#We realize that our data has categorical values \n",
    "cars.columns"
   ]
  },
  {
   "cell_type": "code",
   "execution_count": 8,
   "metadata": {},
   "outputs": [
    {
     "data": {
      "text/plain": [
       "acc       384\n",
       "good       69\n",
       "unacc    1209\n",
       "vgood      65\n",
       "Name: Evaluation, dtype: int64"
      ]
     },
     "execution_count": 8,
     "metadata": {},
     "output_type": "execute_result"
    }
   ],
   "source": [
    "#Lets find out the number of cars in each evaluation category\n",
    "cars['Evaluation'].value_counts().sort_index()\n"
   ]
  },
  {
   "cell_type": "code",
   "execution_count": 9,
   "metadata": {},
   "outputs": [
    {
     "data": {
      "application/vnd.plotly.v1+json": {
       "config": {
        "linkText": "Export to plot.ly",
        "plotlyServerURL": "https://plot.ly",
        "showLink": false
       },
       "data": [
        {
         "domain": {
          "column": 0
         },
         "hole": 0.6,
         "hoverinfo": "label+percent+name",
         "labels": [
          "Unacceptable",
          "Acceptable",
          "Good",
          "Very Good"
         ],
         "name": "Car Evaluation",
         "type": "pie",
         "uid": "2969e700-8f49-4b7f-bd6a-2dd254bb3d3f",
         "values": [
          1210,
          384,
          69,
          65
         ]
        }
       ],
       "layout": {
        "annotations": [
         {
          "font": {
           "size": 36
          },
          "showarrow": false,
          "text": "",
          "x": 0.5,
          "y": 0.5
         }
        ],
        "grid": {
         "columns": 1,
         "rows": 1
        },
        "title": {
         "text": "Distribution of Evaluated Cars"
        }
       }
      },
      "text/html": [
       "<div>\n",
       "        \n",
       "        \n",
       "            <div id=\"a5b30b80-e516-4905-910d-6a18e1d97f07\" class=\"plotly-graph-div\" style=\"height:525px; width:100%;\"></div>\n",
       "            <script type=\"text/javascript\">\n",
       "                require([\"plotly\"], function(Plotly) {\n",
       "                    window.PLOTLYENV=window.PLOTLYENV || {};\n",
       "                    window.PLOTLYENV.BASE_URL='https://plot.ly';\n",
       "                    \n",
       "                if (document.getElementById(\"a5b30b80-e516-4905-910d-6a18e1d97f07\")) {\n",
       "                    Plotly.newPlot(\n",
       "                        'a5b30b80-e516-4905-910d-6a18e1d97f07',\n",
       "                        [{\"domain\": {\"column\": 0}, \"hole\": 0.6, \"hoverinfo\": \"label+percent+name\", \"labels\": [\"Unacceptable\", \"Acceptable\", \"Good\", \"Very Good\"], \"name\": \"Car Evaluation\", \"type\": \"pie\", \"uid\": \"2969e700-8f49-4b7f-bd6a-2dd254bb3d3f\", \"values\": [1210, 384, 69, 65]}],\n",
       "                        {\"annotations\": [{\"font\": {\"size\": 36}, \"showarrow\": false, \"text\": \"\", \"x\": 0.5, \"y\": 0.5}], \"grid\": {\"columns\": 1, \"rows\": 1}, \"title\": {\"text\": \"Distribution of Evaluated Cars\"}},\n",
       "                        {\"showLink\": false, \"linkText\": \"Export to plot.ly\", \"plotlyServerURL\": \"https://plot.ly\", \"responsive\": true}\n",
       "                    ).then(function(){\n",
       "                            \n",
       "var gd = document.getElementById('a5b30b80-e516-4905-910d-6a18e1d97f07');\n",
       "var x = new MutationObserver(function (mutations, observer) {{\n",
       "        var display = window.getComputedStyle(gd).display;\n",
       "        if (!display || display === 'none') {{\n",
       "            console.log([gd, 'removed!']);\n",
       "            Plotly.purge(gd);\n",
       "            observer.disconnect();\n",
       "        }}\n",
       "}});\n",
       "\n",
       "// Listen for the removal of the full notebook cells\n",
       "var notebookContainer = gd.closest('#notebook-container');\n",
       "if (notebookContainer) {{\n",
       "    x.observe(notebookContainer, {childList: true});\n",
       "}}\n",
       "\n",
       "// Listen for the clearing of the current output cell\n",
       "var outputEl = gd.closest('.output');\n",
       "if (outputEl) {{\n",
       "    x.observe(outputEl, {childList: true});\n",
       "}}\n",
       "\n",
       "                        })\n",
       "                };\n",
       "                });\n",
       "            </script>\n",
       "        </div>"
      ]
     },
     "metadata": {},
     "output_type": "display_data"
    }
   ],
   "source": [
    "fig = {\n",
    "  \"data\": [\n",
    "    {\n",
    "      \"values\": [1210,384,69,65],\n",
    "      \"labels\": [\n",
    "        \"Unacceptable\",\n",
    "        \"Acceptable\",\n",
    "        \"Good\",\n",
    "        \"Very Good\"\n",
    "      ],\n",
    "      \"domain\": {\"column\": 0},\n",
    "      \"name\": \"Car Evaluation\",\n",
    "      \"hoverinfo\":\"label+percent+name\",\n",
    "      \"hole\": .6,\n",
    "      \"type\": \"pie\"\n",
    "    }],\n",
    "  \"layout\": {\n",
    "        \"title\":\"Distribution of Evaluated Cars\",\n",
    "        \"grid\": {\"rows\": 1, \"columns\": 1},\n",
    "        \"annotations\": [\n",
    "            {\n",
    "                \"font\": {\n",
    "                    \"size\": 36\n",
    "                },\n",
    "                \"showarrow\": False,\n",
    "                \"text\": \"\",\n",
    "                \"x\": 0.5,\n",
    "                \"y\": 0.5\n",
    "            }\n",
    "        ]\n",
    "    }\n",
    "}\n",
    "py.iplot(fig, filename='cars_donut')"
   ]
  },
  {
   "cell_type": "code",
   "execution_count": 10,
   "metadata": {},
   "outputs": [],
   "source": [
    "#cars.Evaluation.replace(('unacc', 'acc', 'good', 'vgood'), (0, 1, 2, 3), inplace = True)\n",
    "#cars.Buying.replace(('vhigh', 'high', 'med', 'low'), (3, 2, 1, 0), inplace = True)\n",
    "#cars.Maint.replace(('vhigh', 'high', 'med', 'low'), (3, 2, 1, 0), inplace = True)\n",
    "#cars.Doors.replace(('5more'),(5),inplace=True)\n",
    "#cars.Persons.replace(('more'),(5),inplace=True)\n",
    "#cars.LugBoot.replace(('small','med','big'),(0,1,2),inplace=True)\n",
    "#cars.Safety.replace(('low','med','high'),(0,1,2),inplace=True)"
   ]
  },
  {
   "cell_type": "code",
   "execution_count": 11,
   "metadata": {},
   "outputs": [],
   "source": [
    "cars.Doors.replace(('5more'),('5'),inplace=True)\n",
    "cars.Persons.replace(('more'),('5'),inplace=True)\n"
   ]
  },
  {
   "cell_type": "code",
   "execution_count": 12,
   "metadata": {},
   "outputs": [],
   "source": [
    "features = cars.iloc[:,:-1]\n",
    "features[:5]\n",
    "a=[]\n",
    "for i in features:\n",
    "    a.append(features[i].value_counts())"
   ]
  },
  {
   "cell_type": "code",
   "execution_count": 13,
   "metadata": {},
   "outputs": [],
   "source": [
    "buy = pd.crosstab(cars['Buying'], cars['Evaluation'])\n",
    "mc = pd.crosstab(cars['Maint'], cars['Evaluation'])\n",
    "drs = pd.crosstab(cars['Doors'], cars['Evaluation'])\n",
    "prsn = pd.crosstab(cars['Persons'], cars['Evaluation'])\n",
    "lb = pd.crosstab(cars['LugBoot'], cars['Evaluation'])\n",
    "sfty = pd.crosstab(cars['Safety'], cars['Evaluation'])\n"
   ]
  },
  {
   "cell_type": "code",
   "execution_count": 14,
   "metadata": {},
   "outputs": [
    {
     "data": {
      "text/html": [
       "<div>\n",
       "<style scoped>\n",
       "    .dataframe tbody tr th:only-of-type {\n",
       "        vertical-align: middle;\n",
       "    }\n",
       "\n",
       "    .dataframe tbody tr th {\n",
       "        vertical-align: top;\n",
       "    }\n",
       "\n",
       "    .dataframe thead th {\n",
       "        text-align: right;\n",
       "    }\n",
       "</style>\n",
       "<table border=\"1\" class=\"dataframe\">\n",
       "  <thead>\n",
       "    <tr style=\"text-align: right;\">\n",
       "      <th>Evaluation</th>\n",
       "      <th>acc</th>\n",
       "      <th>good</th>\n",
       "      <th>unacc</th>\n",
       "      <th>vgood</th>\n",
       "    </tr>\n",
       "    <tr>\n",
       "      <th>Buying</th>\n",
       "      <th></th>\n",
       "      <th></th>\n",
       "      <th></th>\n",
       "      <th></th>\n",
       "    </tr>\n",
       "  </thead>\n",
       "  <tbody>\n",
       "    <tr>\n",
       "      <th>high</th>\n",
       "      <td>108</td>\n",
       "      <td>0</td>\n",
       "      <td>324</td>\n",
       "      <td>0</td>\n",
       "    </tr>\n",
       "    <tr>\n",
       "      <th>low</th>\n",
       "      <td>89</td>\n",
       "      <td>46</td>\n",
       "      <td>258</td>\n",
       "      <td>39</td>\n",
       "    </tr>\n",
       "    <tr>\n",
       "      <th>med</th>\n",
       "      <td>115</td>\n",
       "      <td>23</td>\n",
       "      <td>268</td>\n",
       "      <td>26</td>\n",
       "    </tr>\n",
       "    <tr>\n",
       "      <th>vhigh</th>\n",
       "      <td>72</td>\n",
       "      <td>0</td>\n",
       "      <td>359</td>\n",
       "      <td>0</td>\n",
       "    </tr>\n",
       "  </tbody>\n",
       "</table>\n",
       "</div>"
      ],
      "text/plain": [
       "Evaluation  acc  good  unacc  vgood\n",
       "Buying                             \n",
       "high        108     0    324      0\n",
       "low          89    46    258     39\n",
       "med         115    23    268     26\n",
       "vhigh        72     0    359      0"
      ]
     },
     "execution_count": 14,
     "metadata": {},
     "output_type": "execute_result"
    }
   ],
   "source": [
    "buy"
   ]
  },
  {
   "cell_type": "code",
   "execution_count": 15,
   "metadata": {},
   "outputs": [
    {
     "data": {
      "application/vnd.plotly.v1+json": {
       "config": {
        "linkText": "Export to plot.ly",
        "plotlyServerURL": "https://plot.ly",
        "showLink": false
       },
       "data": [
        {
         "name": "Unacceptable",
         "type": "bar",
         "uid": "84b9da4c-228e-45af-aca6-88210ab889ca",
         "x": [
          "med",
          "high",
          "low",
          "vhigh"
         ],
         "y": [
          324,
          258,
          268,
          359
         ]
        },
        {
         "name": "Acceptable",
         "type": "bar",
         "uid": "55f71884-1e1f-4d2b-9db3-819377af13f3",
         "x": [
          "med",
          "high",
          "low",
          "vhigh"
         ],
         "y": [
          108,
          89,
          115,
          72
         ]
        },
        {
         "name": "Good",
         "type": "bar",
         "uid": "d7882b52-eb7f-496b-b382-622c6c31bb7f",
         "x": [
          "med",
          "high",
          "low",
          "vhigh"
         ],
         "y": [
          0,
          46,
          23,
          0
         ]
        },
        {
         "name": "Very Good",
         "type": "bar",
         "uid": "37170663-76f1-45ce-b1db-71f19bffc853",
         "x": [
          "med",
          "high",
          "low",
          "vhigh"
         ],
         "y": [
          0,
          39,
          26,
          0
         ]
        }
       ],
       "layout": {
        "barmode": "stack",
        "title": {
         "text": "Selling Price vs Evaluation"
        }
       }
      },
      "text/html": [
       "<div>\n",
       "        \n",
       "        \n",
       "            <div id=\"e94cd5c0-9a11-411f-ab9b-06ded7fc4541\" class=\"plotly-graph-div\" style=\"height:525px; width:100%;\"></div>\n",
       "            <script type=\"text/javascript\">\n",
       "                require([\"plotly\"], function(Plotly) {\n",
       "                    window.PLOTLYENV=window.PLOTLYENV || {};\n",
       "                    window.PLOTLYENV.BASE_URL='https://plot.ly';\n",
       "                    \n",
       "                if (document.getElementById(\"e94cd5c0-9a11-411f-ab9b-06ded7fc4541\")) {\n",
       "                    Plotly.newPlot(\n",
       "                        'e94cd5c0-9a11-411f-ab9b-06ded7fc4541',\n",
       "                        [{\"name\": \"Unacceptable\", \"type\": \"bar\", \"uid\": \"84b9da4c-228e-45af-aca6-88210ab889ca\", \"x\": [\"med\", \"high\", \"low\", \"vhigh\"], \"y\": [324, 258, 268, 359]}, {\"name\": \"Acceptable\", \"type\": \"bar\", \"uid\": \"55f71884-1e1f-4d2b-9db3-819377af13f3\", \"x\": [\"med\", \"high\", \"low\", \"vhigh\"], \"y\": [108, 89, 115, 72]}, {\"name\": \"Good\", \"type\": \"bar\", \"uid\": \"d7882b52-eb7f-496b-b382-622c6c31bb7f\", \"x\": [\"med\", \"high\", \"low\", \"vhigh\"], \"y\": [0, 46, 23, 0]}, {\"name\": \"Very Good\", \"type\": \"bar\", \"uid\": \"37170663-76f1-45ce-b1db-71f19bffc853\", \"x\": [\"med\", \"high\", \"low\", \"vhigh\"], \"y\": [0, 39, 26, 0]}],\n",
       "                        {\"barmode\": \"stack\", \"title\": {\"text\": \"Selling Price vs Evaluation\"}},\n",
       "                        {\"showLink\": false, \"linkText\": \"Export to plot.ly\", \"plotlyServerURL\": \"https://plot.ly\", \"responsive\": true}\n",
       "                    ).then(function(){\n",
       "                            \n",
       "var gd = document.getElementById('e94cd5c0-9a11-411f-ab9b-06ded7fc4541');\n",
       "var x = new MutationObserver(function (mutations, observer) {{\n",
       "        var display = window.getComputedStyle(gd).display;\n",
       "        if (!display || display === 'none') {{\n",
       "            console.log([gd, 'removed!']);\n",
       "            Plotly.purge(gd);\n",
       "            observer.disconnect();\n",
       "        }}\n",
       "}});\n",
       "\n",
       "// Listen for the removal of the full notebook cells\n",
       "var notebookContainer = gd.closest('#notebook-container');\n",
       "if (notebookContainer) {{\n",
       "    x.observe(notebookContainer, {childList: true});\n",
       "}}\n",
       "\n",
       "// Listen for the clearing of the current output cell\n",
       "var outputEl = gd.closest('.output');\n",
       "if (outputEl) {{\n",
       "    x.observe(outputEl, {childList: true});\n",
       "}}\n",
       "\n",
       "                        })\n",
       "                };\n",
       "                });\n",
       "            </script>\n",
       "        </div>"
      ]
     },
     "metadata": {},
     "output_type": "display_data"
    }
   ],
   "source": [
    "data = [\n",
    "    go.Bar(\n",
    "        x=a[0].index, # assign x as the dataframe column 'x'\n",
    "        y=buy['unacc'],\n",
    "        name='Unacceptable'\n",
    "    ),\n",
    "    go.Bar(\n",
    "        x=a[0].index,\n",
    "        y=buy['acc'],\n",
    "        name='Acceptable'\n",
    "    ),\n",
    "    go.Bar(\n",
    "        x=a[0].index,\n",
    "        y=buy['good'],\n",
    "        name='Good'\n",
    "    ),\n",
    "    go.Bar(\n",
    "        x=a[0].index,\n",
    "        y=buy['vgood'],\n",
    "        name='Very Good'\n",
    "    )\n",
    "\n",
    "]\n",
    "\n",
    "layout = go.Layout(\n",
    "    barmode='stack',\n",
    "    title='Selling Price vs Evaluation'\n",
    ")\n",
    "\n",
    "fig = go.Figure(data=data, layout=layout)\n",
    "py.iplot(fig, filename='distri')"
   ]
  },
  {
   "cell_type": "code",
   "execution_count": 16,
   "metadata": {},
   "outputs": [
    {
     "data": {
      "application/vnd.plotly.v1+json": {
       "config": {
        "linkText": "Export to plot.ly",
        "plotlyServerURL": "https://plot.ly",
        "showLink": false
       },
       "data": [
        {
         "name": "Unacceptable",
         "type": "bar",
         "uid": "174ef134-9f67-45af-92b7-321e48d336be",
         "x": [
          "med",
          "high",
          "low",
          "vhigh"
         ],
         "y": [
          314,
          268,
          268,
          359
         ]
        },
        {
         "name": "Acceptable",
         "type": "bar",
         "uid": "ec744291-33c4-4d38-b5fd-702fba90dcb9",
         "x": [
          "med",
          "high",
          "low",
          "vhigh"
         ],
         "y": [
          105,
          92,
          115,
          72
         ]
        },
        {
         "name": "Good",
         "type": "bar",
         "uid": "81f6a0eb-6f49-4432-9766-1c728a562e14",
         "x": [
          "med",
          "high",
          "low",
          "vhigh"
         ],
         "y": [
          0,
          46,
          23,
          0
         ]
        },
        {
         "name": "Very Good",
         "type": "bar",
         "uid": "7ee4a57c-4d01-4420-982a-aa53958d5316",
         "x": [
          "med",
          "high",
          "low",
          "vhigh"
         ],
         "y": [
          13,
          26,
          26,
          0
         ]
        }
       ],
       "layout": {
        "barmode": "stack",
        "title": {
         "text": "Maintainance cost vs Evaluation"
        }
       }
      },
      "text/html": [
       "<div>\n",
       "        \n",
       "        \n",
       "            <div id=\"5fafe51e-969f-4bab-baf2-99fee26de780\" class=\"plotly-graph-div\" style=\"height:525px; width:100%;\"></div>\n",
       "            <script type=\"text/javascript\">\n",
       "                require([\"plotly\"], function(Plotly) {\n",
       "                    window.PLOTLYENV=window.PLOTLYENV || {};\n",
       "                    window.PLOTLYENV.BASE_URL='https://plot.ly';\n",
       "                    \n",
       "                if (document.getElementById(\"5fafe51e-969f-4bab-baf2-99fee26de780\")) {\n",
       "                    Plotly.newPlot(\n",
       "                        '5fafe51e-969f-4bab-baf2-99fee26de780',\n",
       "                        [{\"name\": \"Unacceptable\", \"type\": \"bar\", \"uid\": \"174ef134-9f67-45af-92b7-321e48d336be\", \"x\": [\"med\", \"high\", \"low\", \"vhigh\"], \"y\": [314, 268, 268, 359]}, {\"name\": \"Acceptable\", \"type\": \"bar\", \"uid\": \"ec744291-33c4-4d38-b5fd-702fba90dcb9\", \"x\": [\"med\", \"high\", \"low\", \"vhigh\"], \"y\": [105, 92, 115, 72]}, {\"name\": \"Good\", \"type\": \"bar\", \"uid\": \"81f6a0eb-6f49-4432-9766-1c728a562e14\", \"x\": [\"med\", \"high\", \"low\", \"vhigh\"], \"y\": [0, 46, 23, 0]}, {\"name\": \"Very Good\", \"type\": \"bar\", \"uid\": \"7ee4a57c-4d01-4420-982a-aa53958d5316\", \"x\": [\"med\", \"high\", \"low\", \"vhigh\"], \"y\": [13, 26, 26, 0]}],\n",
       "                        {\"barmode\": \"stack\", \"title\": {\"text\": \"Maintainance cost vs Evaluation\"}},\n",
       "                        {\"showLink\": false, \"linkText\": \"Export to plot.ly\", \"plotlyServerURL\": \"https://plot.ly\", \"responsive\": true}\n",
       "                    ).then(function(){\n",
       "                            \n",
       "var gd = document.getElementById('5fafe51e-969f-4bab-baf2-99fee26de780');\n",
       "var x = new MutationObserver(function (mutations, observer) {{\n",
       "        var display = window.getComputedStyle(gd).display;\n",
       "        if (!display || display === 'none') {{\n",
       "            console.log([gd, 'removed!']);\n",
       "            Plotly.purge(gd);\n",
       "            observer.disconnect();\n",
       "        }}\n",
       "}});\n",
       "\n",
       "// Listen for the removal of the full notebook cells\n",
       "var notebookContainer = gd.closest('#notebook-container');\n",
       "if (notebookContainer) {{\n",
       "    x.observe(notebookContainer, {childList: true});\n",
       "}}\n",
       "\n",
       "// Listen for the clearing of the current output cell\n",
       "var outputEl = gd.closest('.output');\n",
       "if (outputEl) {{\n",
       "    x.observe(outputEl, {childList: true});\n",
       "}}\n",
       "\n",
       "                        })\n",
       "                };\n",
       "                });\n",
       "            </script>\n",
       "        </div>"
      ]
     },
     "metadata": {},
     "output_type": "display_data"
    }
   ],
   "source": [
    "data = [\n",
    "    go.Bar(\n",
    "        x=a[0].index, # assign x as the dataframe column 'x'\n",
    "        y=mc['unacc'],\n",
    "        name='Unacceptable'\n",
    "    ),\n",
    "    go.Bar(\n",
    "        x=a[0].index,\n",
    "        y=mc['acc'],\n",
    "        name='Acceptable'\n",
    "    ),\n",
    "    go.Bar(\n",
    "        x=a[0].index,\n",
    "        y=mc['good'],\n",
    "        name='Good'\n",
    "    ),\n",
    "    go.Bar(\n",
    "        x=a[0].index,\n",
    "        y=mc['vgood'],\n",
    "        name='Very Good'\n",
    "    )\n",
    "\n",
    "]\n",
    "\n",
    "layout = go.Layout(\n",
    "    barmode='stack',\n",
    "    title='Maintainance cost vs Evaluation'\n",
    ")\n",
    "\n",
    "fig = go.Figure(data=data, layout=layout)\n",
    "py.iplot(fig, filename='cars_donut')"
   ]
  },
  {
   "cell_type": "code",
   "execution_count": 17,
   "metadata": {},
   "outputs": [
    {
     "data": {
      "application/vnd.plotly.v1+json": {
       "config": {
        "linkText": "Export to plot.ly",
        "plotlyServerURL": "https://plot.ly",
        "showLink": false
       },
       "data": [
        {
         "name": "Unacceptable",
         "type": "bar",
         "uid": "1f2f9a3f-9d01-47ba-8d96-0c91e7a2ba62",
         "x": [
          "5",
          "4",
          "3",
          "2"
         ],
         "y": [
          325,
          300,
          292,
          292
         ]
        },
        {
         "name": "Acceptable",
         "type": "bar",
         "uid": "3ec2a8d2-1876-405e-9e40-240b227368f8",
         "x": [
          "5",
          "4",
          "3",
          "2"
         ],
         "y": [
          81,
          99,
          102,
          102
         ]
        },
        {
         "name": "Good",
         "type": "bar",
         "uid": "3ea4c33d-2a51-4919-bbe0-df3a743a0af3",
         "x": [
          "5",
          "4",
          "3",
          "2"
         ],
         "y": [
          15,
          18,
          18,
          18
         ]
        },
        {
         "name": "Very Good",
         "type": "bar",
         "uid": "bfe4f459-2602-48d2-ba9a-81d74638ab14",
         "x": [
          "5",
          "4",
          "3",
          "2"
         ],
         "y": [
          10,
          15,
          20,
          20
         ]
        }
       ],
       "layout": {
        "barmode": "stack",
        "title": {
         "text": "Doors vs Evaluation"
        }
       }
      },
      "text/html": [
       "<div>\n",
       "        \n",
       "        \n",
       "            <div id=\"0e6781d7-1547-427f-9821-51b6468602de\" class=\"plotly-graph-div\" style=\"height:525px; width:100%;\"></div>\n",
       "            <script type=\"text/javascript\">\n",
       "                require([\"plotly\"], function(Plotly) {\n",
       "                    window.PLOTLYENV=window.PLOTLYENV || {};\n",
       "                    window.PLOTLYENV.BASE_URL='https://plot.ly';\n",
       "                    \n",
       "                if (document.getElementById(\"0e6781d7-1547-427f-9821-51b6468602de\")) {\n",
       "                    Plotly.newPlot(\n",
       "                        '0e6781d7-1547-427f-9821-51b6468602de',\n",
       "                        [{\"name\": \"Unacceptable\", \"type\": \"bar\", \"uid\": \"1f2f9a3f-9d01-47ba-8d96-0c91e7a2ba62\", \"x\": [\"5\", \"4\", \"3\", \"2\"], \"y\": [325, 300, 292, 292]}, {\"name\": \"Acceptable\", \"type\": \"bar\", \"uid\": \"3ec2a8d2-1876-405e-9e40-240b227368f8\", \"x\": [\"5\", \"4\", \"3\", \"2\"], \"y\": [81, 99, 102, 102]}, {\"name\": \"Good\", \"type\": \"bar\", \"uid\": \"3ea4c33d-2a51-4919-bbe0-df3a743a0af3\", \"x\": [\"5\", \"4\", \"3\", \"2\"], \"y\": [15, 18, 18, 18]}, {\"name\": \"Very Good\", \"type\": \"bar\", \"uid\": \"bfe4f459-2602-48d2-ba9a-81d74638ab14\", \"x\": [\"5\", \"4\", \"3\", \"2\"], \"y\": [10, 15, 20, 20]}],\n",
       "                        {\"barmode\": \"stack\", \"title\": {\"text\": \"Doors vs Evaluation\"}},\n",
       "                        {\"showLink\": false, \"linkText\": \"Export to plot.ly\", \"plotlyServerURL\": \"https://plot.ly\", \"responsive\": true}\n",
       "                    ).then(function(){\n",
       "                            \n",
       "var gd = document.getElementById('0e6781d7-1547-427f-9821-51b6468602de');\n",
       "var x = new MutationObserver(function (mutations, observer) {{\n",
       "        var display = window.getComputedStyle(gd).display;\n",
       "        if (!display || display === 'none') {{\n",
       "            console.log([gd, 'removed!']);\n",
       "            Plotly.purge(gd);\n",
       "            observer.disconnect();\n",
       "        }}\n",
       "}});\n",
       "\n",
       "// Listen for the removal of the full notebook cells\n",
       "var notebookContainer = gd.closest('#notebook-container');\n",
       "if (notebookContainer) {{\n",
       "    x.observe(notebookContainer, {childList: true});\n",
       "}}\n",
       "\n",
       "// Listen for the clearing of the current output cell\n",
       "var outputEl = gd.closest('.output');\n",
       "if (outputEl) {{\n",
       "    x.observe(outputEl, {childList: true});\n",
       "}}\n",
       "\n",
       "                        })\n",
       "                };\n",
       "                });\n",
       "            </script>\n",
       "        </div>"
      ]
     },
     "metadata": {},
     "output_type": "display_data"
    }
   ],
   "source": [
    "data = [\n",
    "    go.Bar(\n",
    "        x=a[2].index, # assign x as the dataframe column 'x'\n",
    "        y=drs['unacc'],\n",
    "        name='Unacceptable'\n",
    "    ),\n",
    "    go.Bar(\n",
    "        x=a[2].index,\n",
    "        y=drs['acc'],\n",
    "        name='Acceptable'\n",
    "    ),\n",
    "    go.Bar(\n",
    "        x=a[2].index,\n",
    "        y=drs['good'],\n",
    "        name='Good'\n",
    "    ),\n",
    "    go.Bar(\n",
    "        x=a[2].index,\n",
    "        y=drs['vgood'],\n",
    "        name='Very Good'\n",
    "    )\n",
    "\n",
    "]\n",
    "\n",
    "layout = go.Layout(\n",
    "    barmode='stack',\n",
    "    title='Doors vs Evaluation'\n",
    ")\n",
    "\n",
    "fig = go.Figure(data=data, layout=layout)\n",
    "py.iplot(fig, filename='cars_donut')"
   ]
  },
  {
   "cell_type": "code",
   "execution_count": 18,
   "metadata": {},
   "outputs": [
    {
     "data": {
      "application/vnd.plotly.v1+json": {
       "config": {
        "linkText": "Export to plot.ly",
        "plotlyServerURL": "https://plot.ly",
        "showLink": false
       },
       "data": [
        {
         "name": "Unacceptable",
         "type": "bar",
         "uid": "3ddcf1e1-71c1-45f9-b1fe-6a6fc664d827",
         "x": [
          "5",
          "4",
          "2"
         ],
         "y": [
          575,
          312,
          322
         ]
        },
        {
         "name": "Acceptable",
         "type": "bar",
         "uid": "6d5c8ae3-0b3a-46e1-a547-c4e5e8e051cc",
         "x": [
          "5",
          "4",
          "2"
         ],
         "y": [
          0,
          198,
          186
         ]
        },
        {
         "name": "Good",
         "type": "bar",
         "uid": "5d6988f3-f0e8-4075-8192-de6a8c7d15ba",
         "x": [
          "5",
          "4",
          "2"
         ],
         "y": [
          0,
          36,
          33
         ]
        },
        {
         "name": "Very Good",
         "type": "bar",
         "uid": "69ea631c-10d9-489c-9268-600dca1da3a2",
         "x": [
          "5",
          "4",
          "2"
         ],
         "y": [
          0,
          30,
          35
         ]
        }
       ],
       "layout": {
        "barmode": "stack",
        "title": {
         "text": "Number of Passengers vs Evaluation"
        }
       }
      },
      "text/html": [
       "<div>\n",
       "        \n",
       "        \n",
       "            <div id=\"5e12aeda-4891-4e77-8a4f-8f9351baf0c7\" class=\"plotly-graph-div\" style=\"height:525px; width:100%;\"></div>\n",
       "            <script type=\"text/javascript\">\n",
       "                require([\"plotly\"], function(Plotly) {\n",
       "                    window.PLOTLYENV=window.PLOTLYENV || {};\n",
       "                    window.PLOTLYENV.BASE_URL='https://plot.ly';\n",
       "                    \n",
       "                if (document.getElementById(\"5e12aeda-4891-4e77-8a4f-8f9351baf0c7\")) {\n",
       "                    Plotly.newPlot(\n",
       "                        '5e12aeda-4891-4e77-8a4f-8f9351baf0c7',\n",
       "                        [{\"name\": \"Unacceptable\", \"type\": \"bar\", \"uid\": \"3ddcf1e1-71c1-45f9-b1fe-6a6fc664d827\", \"x\": [\"5\", \"4\", \"2\"], \"y\": [575, 312, 322]}, {\"name\": \"Acceptable\", \"type\": \"bar\", \"uid\": \"6d5c8ae3-0b3a-46e1-a547-c4e5e8e051cc\", \"x\": [\"5\", \"4\", \"2\"], \"y\": [0, 198, 186]}, {\"name\": \"Good\", \"type\": \"bar\", \"uid\": \"5d6988f3-f0e8-4075-8192-de6a8c7d15ba\", \"x\": [\"5\", \"4\", \"2\"], \"y\": [0, 36, 33]}, {\"name\": \"Very Good\", \"type\": \"bar\", \"uid\": \"69ea631c-10d9-489c-9268-600dca1da3a2\", \"x\": [\"5\", \"4\", \"2\"], \"y\": [0, 30, 35]}],\n",
       "                        {\"barmode\": \"stack\", \"title\": {\"text\": \"Number of Passengers vs Evaluation\"}},\n",
       "                        {\"showLink\": false, \"linkText\": \"Export to plot.ly\", \"plotlyServerURL\": \"https://plot.ly\", \"responsive\": true}\n",
       "                    ).then(function(){\n",
       "                            \n",
       "var gd = document.getElementById('5e12aeda-4891-4e77-8a4f-8f9351baf0c7');\n",
       "var x = new MutationObserver(function (mutations, observer) {{\n",
       "        var display = window.getComputedStyle(gd).display;\n",
       "        if (!display || display === 'none') {{\n",
       "            console.log([gd, 'removed!']);\n",
       "            Plotly.purge(gd);\n",
       "            observer.disconnect();\n",
       "        }}\n",
       "}});\n",
       "\n",
       "// Listen for the removal of the full notebook cells\n",
       "var notebookContainer = gd.closest('#notebook-container');\n",
       "if (notebookContainer) {{\n",
       "    x.observe(notebookContainer, {childList: true});\n",
       "}}\n",
       "\n",
       "// Listen for the clearing of the current output cell\n",
       "var outputEl = gd.closest('.output');\n",
       "if (outputEl) {{\n",
       "    x.observe(outputEl, {childList: true});\n",
       "}}\n",
       "\n",
       "                        })\n",
       "                };\n",
       "                });\n",
       "            </script>\n",
       "        </div>"
      ]
     },
     "metadata": {},
     "output_type": "display_data"
    }
   ],
   "source": [
    "data = [\n",
    "    go.Bar(\n",
    "        x=a[3].index, # assign x as the dataframe column 'x'\n",
    "        y=prsn['unacc'],\n",
    "        name='Unacceptable'\n",
    "    ),\n",
    "    go.Bar(\n",
    "        x=a[3].index,\n",
    "        y=prsn['acc'],\n",
    "        name='Acceptable'\n",
    "    ),\n",
    "    go.Bar(\n",
    "        x=a[3].index,\n",
    "        y=prsn['good'],\n",
    "        name='Good'\n",
    "    ),\n",
    "    go.Bar(\n",
    "        x=a[3].index,\n",
    "        y=prsn['vgood'],\n",
    "        name='Very Good'\n",
    "    )\n",
    "\n",
    "]\n",
    "\n",
    "layout = go.Layout(\n",
    "    barmode='stack',\n",
    "    title='Number of Passengers vs Evaluation'\n",
    ")\n",
    "\n",
    "fig = go.Figure(data=data, layout=layout)\n",
    "py.iplot(fig, filename='cars_donut')"
   ]
  },
  {
   "cell_type": "code",
   "execution_count": 19,
   "metadata": {},
   "outputs": [
    {
     "data": {
      "application/vnd.plotly.v1+json": {
       "config": {
        "linkText": "Export to plot.ly",
        "plotlyServerURL": "https://plot.ly",
        "showLink": false
       },
       "data": [
        {
         "name": "Unacceptable",
         "type": "bar",
         "uid": "a81aaa94-e15a-48ee-924e-e029076c197f",
         "x": [
          "med",
          "big",
          "small"
         ],
         "y": [
          368,
          392,
          449
         ]
        },
        {
         "name": "Acceptable",
         "type": "bar",
         "uid": "1d3eccc2-7178-4576-a383-ba71d41d87b9",
         "x": [
          "med",
          "big",
          "small"
         ],
         "y": [
          144,
          135,
          105
         ]
        },
        {
         "name": "Good",
         "type": "bar",
         "uid": "7e72cb02-fa16-442e-94f8-48b082a1fc8e",
         "x": [
          "med",
          "big",
          "small"
         ],
         "y": [
          24,
          24,
          21
         ]
        },
        {
         "name": "Very Good",
         "type": "bar",
         "uid": "f270dff7-3bc5-400e-b41b-cc9bb2d050e6",
         "x": [
          "med",
          "big",
          "small"
         ],
         "y": [
          40,
          25,
          0
         ]
        }
       ],
       "layout": {
        "barmode": "stack",
        "title": {
         "text": "Luggage Boot vs Evaluation"
        }
       }
      },
      "text/html": [
       "<div>\n",
       "        \n",
       "        \n",
       "            <div id=\"5657b580-8d2c-4520-a3ba-3599219eab07\" class=\"plotly-graph-div\" style=\"height:525px; width:100%;\"></div>\n",
       "            <script type=\"text/javascript\">\n",
       "                require([\"plotly\"], function(Plotly) {\n",
       "                    window.PLOTLYENV=window.PLOTLYENV || {};\n",
       "                    window.PLOTLYENV.BASE_URL='https://plot.ly';\n",
       "                    \n",
       "                if (document.getElementById(\"5657b580-8d2c-4520-a3ba-3599219eab07\")) {\n",
       "                    Plotly.newPlot(\n",
       "                        '5657b580-8d2c-4520-a3ba-3599219eab07',\n",
       "                        [{\"name\": \"Unacceptable\", \"type\": \"bar\", \"uid\": \"a81aaa94-e15a-48ee-924e-e029076c197f\", \"x\": [\"med\", \"big\", \"small\"], \"y\": [368, 392, 449]}, {\"name\": \"Acceptable\", \"type\": \"bar\", \"uid\": \"1d3eccc2-7178-4576-a383-ba71d41d87b9\", \"x\": [\"med\", \"big\", \"small\"], \"y\": [144, 135, 105]}, {\"name\": \"Good\", \"type\": \"bar\", \"uid\": \"7e72cb02-fa16-442e-94f8-48b082a1fc8e\", \"x\": [\"med\", \"big\", \"small\"], \"y\": [24, 24, 21]}, {\"name\": \"Very Good\", \"type\": \"bar\", \"uid\": \"f270dff7-3bc5-400e-b41b-cc9bb2d050e6\", \"x\": [\"med\", \"big\", \"small\"], \"y\": [40, 25, 0]}],\n",
       "                        {\"barmode\": \"stack\", \"title\": {\"text\": \"Luggage Boot vs Evaluation\"}},\n",
       "                        {\"showLink\": false, \"linkText\": \"Export to plot.ly\", \"plotlyServerURL\": \"https://plot.ly\", \"responsive\": true}\n",
       "                    ).then(function(){\n",
       "                            \n",
       "var gd = document.getElementById('5657b580-8d2c-4520-a3ba-3599219eab07');\n",
       "var x = new MutationObserver(function (mutations, observer) {{\n",
       "        var display = window.getComputedStyle(gd).display;\n",
       "        if (!display || display === 'none') {{\n",
       "            console.log([gd, 'removed!']);\n",
       "            Plotly.purge(gd);\n",
       "            observer.disconnect();\n",
       "        }}\n",
       "}});\n",
       "\n",
       "// Listen for the removal of the full notebook cells\n",
       "var notebookContainer = gd.closest('#notebook-container');\n",
       "if (notebookContainer) {{\n",
       "    x.observe(notebookContainer, {childList: true});\n",
       "}}\n",
       "\n",
       "// Listen for the clearing of the current output cell\n",
       "var outputEl = gd.closest('.output');\n",
       "if (outputEl) {{\n",
       "    x.observe(outputEl, {childList: true});\n",
       "}}\n",
       "\n",
       "                        })\n",
       "                };\n",
       "                });\n",
       "            </script>\n",
       "        </div>"
      ]
     },
     "metadata": {},
     "output_type": "display_data"
    }
   ],
   "source": [
    "data = [\n",
    "    go.Bar(\n",
    "        x=a[4].index, # assign x as the dataframe column 'x'\n",
    "        y=lb['unacc'],\n",
    "        name='Unacceptable'\n",
    "    ),\n",
    "    go.Bar(\n",
    "        x=a[4].index,\n",
    "        y=lb['acc'],\n",
    "        name='Acceptable'\n",
    "    ),\n",
    "    go.Bar(\n",
    "        x=a[4].index,\n",
    "        y=lb['good'],\n",
    "        name='Good'\n",
    "    ),\n",
    "    go.Bar(\n",
    "        x=a[4].index,\n",
    "        y=lb['vgood'],\n",
    "        name='Very Good'\n",
    "    )\n",
    "\n",
    "]\n",
    "\n",
    "layout = go.Layout(\n",
    "    barmode='stack',\n",
    "    title='Luggage Boot vs Evaluation'\n",
    ")\n",
    "\n",
    "fig = go.Figure(data=data, layout=layout)\n",
    "py.iplot(fig, filename='cars_donut')"
   ]
  },
  {
   "cell_type": "code",
   "execution_count": 20,
   "metadata": {},
   "outputs": [
    {
     "data": {
      "application/vnd.plotly.v1+json": {
       "config": {
        "linkText": "Export to plot.ly",
        "plotlyServerURL": "https://plot.ly",
        "showLink": false
       },
       "data": [
        {
         "name": "Unacceptable",
         "type": "bar",
         "uid": "36ce9410-39d5-447f-8fbf-836ab0e3a848",
         "x": [
          "med",
          "high",
          "low"
         ],
         "y": [
          277,
          575,
          357
         ]
        },
        {
         "name": "Acceptable",
         "type": "bar",
         "uid": "375f7102-b8e6-4a38-8e17-a5378b12e86c",
         "x": [
          "med",
          "high",
          "low"
         ],
         "y": [
          204,
          0,
          180
         ]
        },
        {
         "name": "Good",
         "type": "bar",
         "uid": "b26eb874-7bcb-4e04-ac1c-b44241e1f9c0",
         "x": [
          "med",
          "high",
          "low"
         ],
         "y": [
          30,
          0,
          39
         ]
        },
        {
         "name": "Very Good",
         "type": "bar",
         "uid": "ba29f138-42ce-488e-b6e0-5e4acf84a0ec",
         "x": [
          "med",
          "high",
          "low"
         ],
         "y": [
          65,
          0,
          0
         ]
        }
       ],
       "layout": {
        "barmode": "stack",
        "title": {
         "text": "Safety vs Evaluation"
        }
       }
      },
      "text/html": [
       "<div>\n",
       "        \n",
       "        \n",
       "            <div id=\"0016e054-7a69-48e0-b63b-b2daad6f39b4\" class=\"plotly-graph-div\" style=\"height:525px; width:100%;\"></div>\n",
       "            <script type=\"text/javascript\">\n",
       "                require([\"plotly\"], function(Plotly) {\n",
       "                    window.PLOTLYENV=window.PLOTLYENV || {};\n",
       "                    window.PLOTLYENV.BASE_URL='https://plot.ly';\n",
       "                    \n",
       "                if (document.getElementById(\"0016e054-7a69-48e0-b63b-b2daad6f39b4\")) {\n",
       "                    Plotly.newPlot(\n",
       "                        '0016e054-7a69-48e0-b63b-b2daad6f39b4',\n",
       "                        [{\"name\": \"Unacceptable\", \"type\": \"bar\", \"uid\": \"36ce9410-39d5-447f-8fbf-836ab0e3a848\", \"x\": [\"med\", \"high\", \"low\"], \"y\": [277, 575, 357]}, {\"name\": \"Acceptable\", \"type\": \"bar\", \"uid\": \"375f7102-b8e6-4a38-8e17-a5378b12e86c\", \"x\": [\"med\", \"high\", \"low\"], \"y\": [204, 0, 180]}, {\"name\": \"Good\", \"type\": \"bar\", \"uid\": \"b26eb874-7bcb-4e04-ac1c-b44241e1f9c0\", \"x\": [\"med\", \"high\", \"low\"], \"y\": [30, 0, 39]}, {\"name\": \"Very Good\", \"type\": \"bar\", \"uid\": \"ba29f138-42ce-488e-b6e0-5e4acf84a0ec\", \"x\": [\"med\", \"high\", \"low\"], \"y\": [65, 0, 0]}],\n",
       "                        {\"barmode\": \"stack\", \"title\": {\"text\": \"Safety vs Evaluation\"}},\n",
       "                        {\"showLink\": false, \"linkText\": \"Export to plot.ly\", \"plotlyServerURL\": \"https://plot.ly\", \"responsive\": true}\n",
       "                    ).then(function(){\n",
       "                            \n",
       "var gd = document.getElementById('0016e054-7a69-48e0-b63b-b2daad6f39b4');\n",
       "var x = new MutationObserver(function (mutations, observer) {{\n",
       "        var display = window.getComputedStyle(gd).display;\n",
       "        if (!display || display === 'none') {{\n",
       "            console.log([gd, 'removed!']);\n",
       "            Plotly.purge(gd);\n",
       "            observer.disconnect();\n",
       "        }}\n",
       "}});\n",
       "\n",
       "// Listen for the removal of the full notebook cells\n",
       "var notebookContainer = gd.closest('#notebook-container');\n",
       "if (notebookContainer) {{\n",
       "    x.observe(notebookContainer, {childList: true});\n",
       "}}\n",
       "\n",
       "// Listen for the clearing of the current output cell\n",
       "var outputEl = gd.closest('.output');\n",
       "if (outputEl) {{\n",
       "    x.observe(outputEl, {childList: true});\n",
       "}}\n",
       "\n",
       "                        })\n",
       "                };\n",
       "                });\n",
       "            </script>\n",
       "        </div>"
      ]
     },
     "metadata": {},
     "output_type": "display_data"
    }
   ],
   "source": [
    "data = [\n",
    "    go.Bar(\n",
    "        x=a[5].index, # assign x as the dataframe column 'x'\n",
    "        y=sfty['unacc'],\n",
    "        name='Unacceptable'\n",
    "    ),\n",
    "    go.Bar(\n",
    "        x=a[5].index,\n",
    "        y=sfty['acc'],\n",
    "        name='Acceptable'\n",
    "    ),\n",
    "    go.Bar(\n",
    "        x=a[5].index,\n",
    "        y=sfty['good'],\n",
    "        name='Good'\n",
    "    ),\n",
    "    go.Bar(\n",
    "        x=a[5].index,\n",
    "        y=sfty['vgood'],\n",
    "        name='Very Good'\n",
    "    )\n",
    "\n",
    "]\n",
    "\n",
    "layout = go.Layout(\n",
    "    barmode='stack',\n",
    "    title='Safety vs Evaluation'\n",
    ")\n",
    "\n",
    "fig = go.Figure(data=data, layout=layout)\n",
    "py.iplot(fig, filename='cars_donut')"
   ]
  },
  {
   "cell_type": "code",
   "execution_count": 21,
   "metadata": {},
   "outputs": [],
   "source": [
    "#We need to encode the categorical data \n",
    "#We have two options, either we use label encoder or one hot encoder \n",
    "#We use label encoder when our target variable changes with increase or decrease in that feature variable \n",
    "#We use One hot encoder when a target variable depends upon the feature variable "
   ]
  },
  {
   "cell_type": "code",
   "execution_count": 93,
   "metadata": {},
   "outputs": [],
   "source": [
    "#Dividing the dataframe into x features and y target variable\n",
    "x = cars.iloc[:, :-1]\n",
    "y = cars.iloc[:, 6]"
   ]
  },
  {
   "cell_type": "code",
   "execution_count": 94,
   "metadata": {},
   "outputs": [],
   "source": [
    "x.columns = ['Buying', 'Maint', 'Doors','Persons','LugBoot','Safety']\n",
    "y.columns=['Evaluation']"
   ]
  },
  {
   "cell_type": "code",
   "execution_count": 95,
   "metadata": {},
   "outputs": [
    {
     "data": {
      "text/html": [
       "<div>\n",
       "<style scoped>\n",
       "    .dataframe tbody tr th:only-of-type {\n",
       "        vertical-align: middle;\n",
       "    }\n",
       "\n",
       "    .dataframe tbody tr th {\n",
       "        vertical-align: top;\n",
       "    }\n",
       "\n",
       "    .dataframe thead th {\n",
       "        text-align: right;\n",
       "    }\n",
       "</style>\n",
       "<table border=\"1\" class=\"dataframe\">\n",
       "  <thead>\n",
       "    <tr style=\"text-align: right;\">\n",
       "      <th></th>\n",
       "      <th>Buying</th>\n",
       "      <th>Maint</th>\n",
       "      <th>Doors</th>\n",
       "      <th>Persons</th>\n",
       "      <th>LugBoot</th>\n",
       "      <th>Safety</th>\n",
       "    </tr>\n",
       "  </thead>\n",
       "  <tbody>\n",
       "    <tr>\n",
       "      <th>0</th>\n",
       "      <td>vhigh</td>\n",
       "      <td>vhigh</td>\n",
       "      <td>2</td>\n",
       "      <td>2</td>\n",
       "      <td>small</td>\n",
       "      <td>med</td>\n",
       "    </tr>\n",
       "    <tr>\n",
       "      <th>1</th>\n",
       "      <td>vhigh</td>\n",
       "      <td>vhigh</td>\n",
       "      <td>2</td>\n",
       "      <td>2</td>\n",
       "      <td>small</td>\n",
       "      <td>high</td>\n",
       "    </tr>\n",
       "    <tr>\n",
       "      <th>2</th>\n",
       "      <td>vhigh</td>\n",
       "      <td>vhigh</td>\n",
       "      <td>2</td>\n",
       "      <td>2</td>\n",
       "      <td>med</td>\n",
       "      <td>low</td>\n",
       "    </tr>\n",
       "    <tr>\n",
       "      <th>3</th>\n",
       "      <td>vhigh</td>\n",
       "      <td>vhigh</td>\n",
       "      <td>2</td>\n",
       "      <td>2</td>\n",
       "      <td>med</td>\n",
       "      <td>med</td>\n",
       "    </tr>\n",
       "    <tr>\n",
       "      <th>4</th>\n",
       "      <td>vhigh</td>\n",
       "      <td>vhigh</td>\n",
       "      <td>2</td>\n",
       "      <td>2</td>\n",
       "      <td>med</td>\n",
       "      <td>high</td>\n",
       "    </tr>\n",
       "  </tbody>\n",
       "</table>\n",
       "</div>"
      ],
      "text/plain": [
       "  Buying  Maint Doors Persons LugBoot Safety\n",
       "0  vhigh  vhigh     2       2   small    med\n",
       "1  vhigh  vhigh     2       2   small   high\n",
       "2  vhigh  vhigh     2       2     med    low\n",
       "3  vhigh  vhigh     2       2     med    med\n",
       "4  vhigh  vhigh     2       2     med   high"
      ]
     },
     "execution_count": 95,
     "metadata": {},
     "output_type": "execute_result"
    }
   ],
   "source": [
    "x.head()"
   ]
  },
  {
   "cell_type": "code",
   "execution_count": 96,
   "metadata": {},
   "outputs": [],
   "source": [
    "#Using pandas dummies function to encode the data into categorical data\n",
    "x = pd.get_dummies(x, prefix_sep='_', drop_first=True)"
   ]
  },
  {
   "cell_type": "code",
   "execution_count": 97,
   "metadata": {},
   "outputs": [
    {
     "data": {
      "text/html": [
       "<div>\n",
       "<style scoped>\n",
       "    .dataframe tbody tr th:only-of-type {\n",
       "        vertical-align: middle;\n",
       "    }\n",
       "\n",
       "    .dataframe tbody tr th {\n",
       "        vertical-align: top;\n",
       "    }\n",
       "\n",
       "    .dataframe thead th {\n",
       "        text-align: right;\n",
       "    }\n",
       "</style>\n",
       "<table border=\"1\" class=\"dataframe\">\n",
       "  <thead>\n",
       "    <tr style=\"text-align: right;\">\n",
       "      <th></th>\n",
       "      <th>Buying_low</th>\n",
       "      <th>Buying_med</th>\n",
       "      <th>Buying_vhigh</th>\n",
       "      <th>Maint_low</th>\n",
       "      <th>Maint_med</th>\n",
       "      <th>Maint_vhigh</th>\n",
       "      <th>Doors_3</th>\n",
       "      <th>Doors_4</th>\n",
       "      <th>Doors_5</th>\n",
       "      <th>Persons_4</th>\n",
       "      <th>Persons_5</th>\n",
       "      <th>LugBoot_med</th>\n",
       "      <th>LugBoot_small</th>\n",
       "      <th>Safety_low</th>\n",
       "      <th>Safety_med</th>\n",
       "    </tr>\n",
       "  </thead>\n",
       "  <tbody>\n",
       "    <tr>\n",
       "      <th>889</th>\n",
       "      <td>0</td>\n",
       "      <td>1</td>\n",
       "      <td>0</td>\n",
       "      <td>0</td>\n",
       "      <td>0</td>\n",
       "      <td>1</td>\n",
       "      <td>0</td>\n",
       "      <td>0</td>\n",
       "      <td>0</td>\n",
       "      <td>0</td>\n",
       "      <td>1</td>\n",
       "      <td>0</td>\n",
       "      <td>0</td>\n",
       "      <td>0</td>\n",
       "      <td>0</td>\n",
       "    </tr>\n",
       "    <tr>\n",
       "      <th>44</th>\n",
       "      <td>0</td>\n",
       "      <td>0</td>\n",
       "      <td>1</td>\n",
       "      <td>0</td>\n",
       "      <td>0</td>\n",
       "      <td>1</td>\n",
       "      <td>1</td>\n",
       "      <td>0</td>\n",
       "      <td>0</td>\n",
       "      <td>0</td>\n",
       "      <td>1</td>\n",
       "      <td>0</td>\n",
       "      <td>1</td>\n",
       "      <td>1</td>\n",
       "      <td>0</td>\n",
       "    </tr>\n",
       "    <tr>\n",
       "      <th>1537</th>\n",
       "      <td>1</td>\n",
       "      <td>0</td>\n",
       "      <td>0</td>\n",
       "      <td>0</td>\n",
       "      <td>1</td>\n",
       "      <td>0</td>\n",
       "      <td>0</td>\n",
       "      <td>0</td>\n",
       "      <td>0</td>\n",
       "      <td>0</td>\n",
       "      <td>1</td>\n",
       "      <td>0</td>\n",
       "      <td>0</td>\n",
       "      <td>0</td>\n",
       "      <td>0</td>\n",
       "    </tr>\n",
       "    <tr>\n",
       "      <th>1185</th>\n",
       "      <td>0</td>\n",
       "      <td>1</td>\n",
       "      <td>0</td>\n",
       "      <td>0</td>\n",
       "      <td>1</td>\n",
       "      <td>0</td>\n",
       "      <td>0</td>\n",
       "      <td>0</td>\n",
       "      <td>1</td>\n",
       "      <td>0</td>\n",
       "      <td>1</td>\n",
       "      <td>0</td>\n",
       "      <td>0</td>\n",
       "      <td>0</td>\n",
       "      <td>1</td>\n",
       "    </tr>\n",
       "    <tr>\n",
       "      <th>1431</th>\n",
       "      <td>1</td>\n",
       "      <td>0</td>\n",
       "      <td>0</td>\n",
       "      <td>0</td>\n",
       "      <td>0</td>\n",
       "      <td>0</td>\n",
       "      <td>1</td>\n",
       "      <td>0</td>\n",
       "      <td>0</td>\n",
       "      <td>0</td>\n",
       "      <td>0</td>\n",
       "      <td>0</td>\n",
       "      <td>1</td>\n",
       "      <td>0</td>\n",
       "      <td>1</td>\n",
       "    </tr>\n",
       "  </tbody>\n",
       "</table>\n",
       "</div>"
      ],
      "text/plain": [
       "      Buying_low  Buying_med  Buying_vhigh  Maint_low  Maint_med  Maint_vhigh  \\\n",
       "889            0           1             0          0          0            1   \n",
       "44             0           0             1          0          0            1   \n",
       "1537           1           0             0          0          1            0   \n",
       "1185           0           1             0          0          1            0   \n",
       "1431           1           0             0          0          0            0   \n",
       "\n",
       "      Doors_3  Doors_4  Doors_5  Persons_4  Persons_5  LugBoot_med  \\\n",
       "889         0        0        0          0          1            0   \n",
       "44          1        0        0          0          1            0   \n",
       "1537        0        0        0          0          1            0   \n",
       "1185        0        0        1          0          1            0   \n",
       "1431        1        0        0          0          0            0   \n",
       "\n",
       "      LugBoot_small  Safety_low  Safety_med  \n",
       "889               0           0           0  \n",
       "44                1           1           0  \n",
       "1537              0           0           0  \n",
       "1185              0           0           1  \n",
       "1431              1           0           1  "
      ]
     },
     "execution_count": 97,
     "metadata": {},
     "output_type": "execute_result"
    }
   ],
   "source": [
    "x.sample(5)"
   ]
  },
  {
   "cell_type": "code",
   "execution_count": 98,
   "metadata": {},
   "outputs": [
    {
     "data": {
      "text/plain": [
       "count      1727\n",
       "unique        4\n",
       "top       unacc\n",
       "freq       1209\n",
       "Name: Evaluation, dtype: object"
      ]
     },
     "execution_count": 98,
     "metadata": {},
     "output_type": "execute_result"
    }
   ],
   "source": [
    "y.describe()"
   ]
  },
  {
   "cell_type": "code",
   "execution_count": 99,
   "metadata": {},
   "outputs": [],
   "source": [
    "x=x.values\n",
    "y=y.values"
   ]
  },
  {
   "cell_type": "code",
   "execution_count": 100,
   "metadata": {},
   "outputs": [],
   "source": [
    "#And the rest of them to be categorically encoded: ['Buying', 'Maint', 'Doors', 'Persons','Safety','Evaluation']"
   ]
  },
  {
   "cell_type": "code",
   "execution_count": 101,
   "metadata": {},
   "outputs": [],
   "source": [
    "x_train, x_test, y_train, y_test = train_test_split(x, y, test_size = 0.25, random_state = 0)\n"
   ]
  },
  {
   "cell_type": "code",
   "execution_count": 102,
   "metadata": {},
   "outputs": [
    {
     "data": {
      "text/plain": [
       "'from sklearn.preprocessing import StandardScaler\\n\\nsc = StandardScaler()\\n\\nx_train = sc.fit_transform(x_train)\\nx_test = sc.transform(x_test)'"
      ]
     },
     "execution_count": 102,
     "metadata": {},
     "output_type": "execute_result"
    }
   ],
   "source": [
    "\"\"\"from sklearn.preprocessing import StandardScaler\n",
    "\n",
    "sc = StandardScaler()\n",
    "\n",
    "x_train = sc.fit_transform(x_train)\n",
    "x_test = sc.transform(x_test)\"\"\""
   ]
  },
  {
   "cell_type": "code",
   "execution_count": 103,
   "metadata": {},
   "outputs": [
    {
     "data": {
      "text/plain": [
       "array([[0, 0, 0, 0, 0, 1, 0, 0, 1, 0, 0, 0, 0, 0, 0],\n",
       "       [0, 0, 0, 0, 0, 0, 0, 0, 1, 0, 0, 0, 1, 0, 1],\n",
       "       [0, 1, 0, 0, 0, 0, 1, 0, 0, 0, 1, 0, 1, 0, 1],\n",
       "       [0, 1, 0, 1, 0, 0, 0, 0, 1, 0, 0, 1, 0, 0, 0],\n",
       "       [0, 1, 0, 0, 0, 1, 0, 1, 0, 0, 0, 0, 0, 0, 1]], dtype=uint8)"
      ]
     },
     "execution_count": 103,
     "metadata": {},
     "output_type": "execute_result"
    }
   ],
   "source": [
    "x_train[:5]"
   ]
  },
  {
   "cell_type": "code",
   "execution_count": 104,
   "metadata": {},
   "outputs": [
    {
     "data": {
      "text/plain": [
       "array(['unacc', 'unacc', 'unacc', 'unacc', 'unacc'], dtype=object)"
      ]
     },
     "execution_count": 104,
     "metadata": {},
     "output_type": "execute_result"
    }
   ],
   "source": [
    "y_train[:5]"
   ]
  },
  {
   "cell_type": "code",
   "execution_count": 105,
   "metadata": {},
   "outputs": [],
   "source": [
    "from sklearn.linear_model import LogisticRegression\n",
    "from sklearn.metrics import accuracy_score, f1_score, precision_score, recall_score, classification_report, confusion_matrix\n"
   ]
  },
  {
   "cell_type": "code",
   "execution_count": 106,
   "metadata": {},
   "outputs": [
    {
     "data": {
      "text/plain": [
       "LogisticRegression(C=1.0, class_weight=None, dual=False, fit_intercept=True,\n",
       "                   intercept_scaling=1, l1_ratio=None, max_iter=100,\n",
       "                   multi_class='warn', n_jobs=None, penalty='l2',\n",
       "                   random_state=0, solver='warn', tol=0.0001, verbose=0,\n",
       "                   warm_start=False)"
      ]
     },
     "execution_count": 106,
     "metadata": {},
     "output_type": "execute_result"
    }
   ],
   "source": [
    "#Using ogistic regression\n",
    "clf = LogisticRegression(random_state = 0)\n",
    "clf.fit(x_train, y_train)"
   ]
  },
  {
   "cell_type": "code",
   "execution_count": 108,
   "metadata": {},
   "outputs": [
    {
     "name": "stdout",
     "output_type": "stream",
     "text": [
      "Training Accuracy:  0.8749034749034749\n",
      "Testing Accuracy:  0.8333333333333334\n",
      "[[ 74   3  19   0]\n",
      " [ 13   3   0   2]\n",
      " [ 16   0 282   0]\n",
      " [ 19   0   0   1]]\n",
      "              precision    recall  f1-score   support\n",
      "\n",
      "         acc       0.61      0.77      0.68        96\n",
      "        good       0.50      0.17      0.25        18\n",
      "       unacc       0.94      0.95      0.94       298\n",
      "       vgood       0.33      0.05      0.09        20\n",
      "\n",
      "    accuracy                           0.83       432\n",
      "   macro avg       0.59      0.48      0.49       432\n",
      "weighted avg       0.82      0.83      0.81       432\n",
      "\n"
     ]
    }
   ],
   "source": [
    "y_pred = clf.predict(x_test)\n",
    "f1_LR=f1_score(y_test,y_pred, average='macro')\n",
    "print(\"Training Accuracy: \",clf.score(x_train, y_train))\n",
    "print(\"Testing Accuracy: \", clf.score(x_test, y_test))\n",
    "cm = confusion_matrix(y_test, y_pred)\n",
    "print(cm)\n",
    "print(classification_report(y_test,y_pred)) "
   ]
  },
  {
   "cell_type": "code",
   "execution_count": 125,
   "metadata": {},
   "outputs": [
    {
     "data": {
      "text/plain": [
       "KNeighborsClassifier(algorithm='auto', leaf_size=30, metric='minkowski',\n",
       "                     metric_params=None, n_jobs=None, n_neighbors=5, p=2,\n",
       "                     weights='uniform')"
      ]
     },
     "execution_count": 125,
     "metadata": {},
     "output_type": "execute_result"
    }
   ],
   "source": [
    "#Using KNN classifier\n",
    "from sklearn.neighbors import KNeighborsClassifier\n",
    "clf = KNeighborsClassifier(n_neighbors = 5, metric = 'minkowski', p = 2)\n",
    "clf.fit(x_train, y_train)"
   ]
  },
  {
   "cell_type": "code",
   "execution_count": 126,
   "metadata": {},
   "outputs": [
    {
     "name": "stdout",
     "output_type": "stream",
     "text": [
      "Training Accuracy:  0.9196911196911197\n",
      "Testing Accuracy:  0.8472222222222222\n",
      "[[ 66   5  25   0]\n",
      " [ 11   1   5   1]\n",
      " [  4   0 294   0]\n",
      " [  8   4   3   5]]\n",
      "              precision    recall  f1-score   support\n",
      "\n",
      "         acc       0.74      0.69      0.71        96\n",
      "        good       0.10      0.06      0.07        18\n",
      "       unacc       0.90      0.99      0.94       298\n",
      "       vgood       0.83      0.25      0.38        20\n",
      "\n",
      "    accuracy                           0.85       432\n",
      "   macro avg       0.64      0.49      0.53       432\n",
      "weighted avg       0.83      0.85      0.83       432\n",
      "\n"
     ]
    }
   ],
   "source": [
    "y_pred = clf.predict(x_test)\n",
    "f1_KNN=f1_score(y_test,y_pred, average='macro')\n",
    "print(\"Training Accuracy: \",clf.score(x_train, y_train))\n",
    "print(\"Testing Accuracy: \", clf.score(x_test, y_test))\n",
    "cm = confusion_matrix(y_test, y_pred)\n",
    "print(cm)\n",
    "print(classification_report(y_test,y_pred))"
   ]
  },
  {
   "cell_type": "code",
   "execution_count": 127,
   "metadata": {},
   "outputs": [
    {
     "data": {
      "text/plain": [
       "SVC(C=1.0, cache_size=200, class_weight=None, coef0=0.0,\n",
       "    decision_function_shape='ovr', degree=3, gamma='auto_deprecated',\n",
       "    kernel='linear', max_iter=-1, probability=False, random_state=0,\n",
       "    shrinking=True, tol=0.001, verbose=False)"
      ]
     },
     "execution_count": 127,
     "metadata": {},
     "output_type": "execute_result"
    }
   ],
   "source": [
    "#Using Linear SVC\n",
    "from sklearn.svm import SVC\n",
    "clf = SVC(kernel = 'linear', random_state = 0)\n",
    "clf.fit(x_train, y_train)"
   ]
  },
  {
   "cell_type": "code",
   "execution_count": 128,
   "metadata": {},
   "outputs": [
    {
     "name": "stdout",
     "output_type": "stream",
     "text": [
      "Training Accuracy:  0.9405405405405406\n",
      "Testing Accuracy:  0.9282407407407407\n",
      "[[ 86   4   6   0]\n",
      " [  1  11   0   6]\n",
      " [ 14   0 284   0]\n",
      " [  0   0   0  20]]\n",
      "              precision    recall  f1-score   support\n",
      "\n",
      "         acc       0.85      0.90      0.87        96\n",
      "        good       0.73      0.61      0.67        18\n",
      "       unacc       0.98      0.95      0.97       298\n",
      "       vgood       0.77      1.00      0.87        20\n",
      "\n",
      "    accuracy                           0.93       432\n",
      "   macro avg       0.83      0.86      0.84       432\n",
      "weighted avg       0.93      0.93      0.93       432\n",
      "\n"
     ]
    }
   ],
   "source": [
    "y_pred = clf.predict(x_test)\n",
    "f1_SVC_Linear=f1_score(y_test,y_pred, average='macro')\n",
    "print(\"Training Accuracy: \",clf.score(x_train, y_train))\n",
    "print(\"Testing Accuracy: \", clf.score(x_test, y_test))\n",
    "cm = confusion_matrix(y_test, y_pred)\n",
    "print(cm)\n",
    "print(classification_report(y_test,y_pred))"
   ]
  },
  {
   "cell_type": "code",
   "execution_count": 129,
   "metadata": {},
   "outputs": [
    {
     "data": {
      "text/plain": [
       "SVC(C=1.0, cache_size=200, class_weight=None, coef0=0.0,\n",
       "    decision_function_shape='ovr', degree=3, gamma='auto_deprecated',\n",
       "    kernel='rbf', max_iter=-1, probability=False, random_state=0,\n",
       "    shrinking=True, tol=0.001, verbose=False)"
      ]
     },
     "execution_count": 129,
     "metadata": {},
     "output_type": "execute_result"
    }
   ],
   "source": [
    "#Using rbf SVC\n",
    "from sklearn.svm import SVC\n",
    "clf = SVC(kernel = 'rbf', random_state = 0)\n",
    "clf.fit(x_train, y_train)"
   ]
  },
  {
   "cell_type": "code",
   "execution_count": 130,
   "metadata": {},
   "outputs": [
    {
     "name": "stdout",
     "output_type": "stream",
     "text": [
      "Training Accuracy:  0.8934362934362934\n",
      "Testing Accuracy:  0.8773148148148148\n",
      "[[ 91   0   5   0]\n",
      " [ 17   0   0   1]\n",
      " [ 17   0 281   0]\n",
      " [ 13   0   0   7]]\n",
      "              precision    recall  f1-score   support\n",
      "\n",
      "         acc       0.66      0.95      0.78        96\n",
      "        good       0.00      0.00      0.00        18\n",
      "       unacc       0.98      0.94      0.96       298\n",
      "       vgood       0.88      0.35      0.50        20\n",
      "\n",
      "    accuracy                           0.88       432\n",
      "   macro avg       0.63      0.56      0.56       432\n",
      "weighted avg       0.86      0.88      0.86       432\n",
      "\n"
     ]
    }
   ],
   "source": [
    "y_pred = clf.predict(x_test)\n",
    "f1_SVC_rbf=f1_score(y_test,y_pred, average='macro')\n",
    "print(\"Training Accuracy: \",clf.score(x_train, y_train))\n",
    "print(\"Testing Accuracy: \", clf.score(x_test, y_test))\n",
    "cm = confusion_matrix(y_test, y_pred)\n",
    "print(cm)\n",
    "print(classification_report(y_test,y_pred))"
   ]
  },
  {
   "cell_type": "code",
   "execution_count": 131,
   "metadata": {},
   "outputs": [
    {
     "data": {
      "text/plain": [
       "GaussianNB(priors=None, var_smoothing=1e-09)"
      ]
     },
     "execution_count": 131,
     "metadata": {},
     "output_type": "execute_result"
    }
   ],
   "source": [
    "#Using NB classifier\n",
    "from sklearn.naive_bayes import GaussianNB\n",
    "clf = GaussianNB()\n",
    "clf.fit(x_train, y_train)"
   ]
  },
  {
   "cell_type": "code",
   "execution_count": 89,
   "metadata": {},
   "outputs": [],
   "source": [
    "#GaussianNB?"
   ]
  },
  {
   "cell_type": "code",
   "execution_count": 132,
   "metadata": {},
   "outputs": [
    {
     "name": "stdout",
     "output_type": "stream",
     "text": [
      "Training Accuracy:  0.48494208494208496\n",
      "Testing Accuracy:  0.5\n",
      "[[ 37  47   0  12]\n",
      " [  0  12   0   6]\n",
      " [ 96  36 147  19]\n",
      " [  0   0   0  20]]\n",
      "              precision    recall  f1-score   support\n",
      "\n",
      "         acc       0.28      0.39      0.32        96\n",
      "        good       0.13      0.67      0.21        18\n",
      "       unacc       1.00      0.49      0.66       298\n",
      "       vgood       0.35      1.00      0.52        20\n",
      "\n",
      "    accuracy                           0.50       432\n",
      "   macro avg       0.44      0.64      0.43       432\n",
      "weighted avg       0.77      0.50      0.56       432\n",
      "\n"
     ]
    }
   ],
   "source": [
    "y_pred = clf.predict(x_test)\n",
    "print(\"Training Accuracy: \",clf.score(x_train, y_train))\n",
    "print(\"Testing Accuracy: \", clf.score(x_test, y_test))\n",
    "cm = confusion_matrix(y_test, y_pred)\n",
    "print(cm)\n",
    "print(classification_report(y_test,y_pred))"
   ]
  },
  {
   "cell_type": "markdown",
   "metadata": {},
   "source": [
    "Note that this is WRONG implementation of Naive Bayes classifier. Since the Independence assumption of NB classifier states that the features shoud not be correlated to each other; so when creating the dummy variables, we make family of dependent features and hence we get such a terrible accuracy. So after trying out a couple more algorithms, I've done this one properly :)"
   ]
  },
  {
   "cell_type": "code",
   "execution_count": 133,
   "metadata": {},
   "outputs": [
    {
     "data": {
      "text/plain": [
       "DecisionTreeClassifier(class_weight=None, criterion='entropy', max_depth=None,\n",
       "                       max_features=None, max_leaf_nodes=None,\n",
       "                       min_impurity_decrease=0.0, min_impurity_split=None,\n",
       "                       min_samples_leaf=1, min_samples_split=2,\n",
       "                       min_weight_fraction_leaf=0.0, presort=False,\n",
       "                       random_state=0, splitter='best')"
      ]
     },
     "execution_count": 133,
     "metadata": {},
     "output_type": "execute_result"
    }
   ],
   "source": [
    "#Trying decision tree classifier\n",
    "from sklearn.tree import DecisionTreeClassifier\n",
    "clf = DecisionTreeClassifier(criterion = 'entropy', random_state = 0)\n",
    "clf.fit(x_train, y_train)"
   ]
  },
  {
   "cell_type": "code",
   "execution_count": 134,
   "metadata": {},
   "outputs": [
    {
     "name": "stdout",
     "output_type": "stream",
     "text": [
      "Training Accuracy:  1.0\n",
      "Testing Accuracy:  0.8981481481481481\n",
      "[[ 73   5  18   0]\n",
      " [  9   8   0   1]\n",
      " [  4   0 294   0]\n",
      " [  5   2   0  13]]\n",
      "              precision    recall  f1-score   support\n",
      "\n",
      "         acc       0.80      0.76      0.78        96\n",
      "        good       0.53      0.44      0.48        18\n",
      "       unacc       0.94      0.99      0.96       298\n",
      "       vgood       0.93      0.65      0.76        20\n",
      "\n",
      "    accuracy                           0.90       432\n",
      "   macro avg       0.80      0.71      0.75       432\n",
      "weighted avg       0.89      0.90      0.89       432\n",
      "\n"
     ]
    }
   ],
   "source": [
    "y_pred = clf.predict(x_test)\n",
    "f1_DT=f1_score(y_test,y_pred, average='macro')\n",
    "print(\"Training Accuracy: \",clf.score(x_train, y_train))\n",
    "print(\"Testing Accuracy: \", clf.score(x_test, y_test))\n",
    "cm = confusion_matrix(y_test, y_pred)\n",
    "print(cm)\n",
    "print(classification_report(y_test,y_pred))"
   ]
  },
  {
   "cell_type": "code",
   "execution_count": 135,
   "metadata": {},
   "outputs": [
    {
     "data": {
      "text/plain": [
       "RandomForestClassifier(bootstrap=True, class_weight=None, criterion='entropy',\n",
       "                       max_depth=None, max_features='auto', max_leaf_nodes=None,\n",
       "                       min_impurity_decrease=0.0, min_impurity_split=None,\n",
       "                       min_samples_leaf=1, min_samples_split=2,\n",
       "                       min_weight_fraction_leaf=0.0, n_estimators=25,\n",
       "                       n_jobs=None, oob_score=False, random_state=0, verbose=0,\n",
       "                       warm_start=False)"
      ]
     },
     "execution_count": 135,
     "metadata": {},
     "output_type": "execute_result"
    }
   ],
   "source": [
    "#Trying Random forest classifier\n",
    "from sklearn.ensemble import RandomForestClassifier\n",
    "clf = RandomForestClassifier(n_estimators = 25, criterion = 'entropy', random_state = 0)\n",
    "clf.fit(x_train, y_train)"
   ]
  },
  {
   "cell_type": "code",
   "execution_count": 136,
   "metadata": {},
   "outputs": [
    {
     "name": "stdout",
     "output_type": "stream",
     "text": [
      "Training Accuracy:  1.0\n",
      "Testing Accuracy:  0.875\n",
      "[[ 71   6  19   0]\n",
      " [ 10   4   1   3]\n",
      " [  7   0 291   0]\n",
      " [  8   0   0  12]]\n",
      "              precision    recall  f1-score   support\n",
      "\n",
      "         acc       0.74      0.74      0.74        96\n",
      "        good       0.40      0.22      0.29        18\n",
      "       unacc       0.94      0.98      0.96       298\n",
      "       vgood       0.80      0.60      0.69        20\n",
      "\n",
      "    accuracy                           0.88       432\n",
      "   macro avg       0.72      0.63      0.67       432\n",
      "weighted avg       0.86      0.88      0.87       432\n",
      "\n"
     ]
    }
   ],
   "source": [
    "y_pred = clf.predict(x_test)\n",
    "f1_RF=f1_score(y_test,y_pred, average='macro')\n",
    "print(\"Training Accuracy: \",clf.score(x_train, y_train))\n",
    "print(\"Testing Accuracy: \", clf.score(x_test, y_test))\n",
    "cm = confusion_matrix(y_test, y_pred)\n",
    "print(cm)\n",
    "print(classification_report(y_test,y_pred))"
   ]
  },
  {
   "cell_type": "code",
   "execution_count": 137,
   "metadata": {},
   "outputs": [],
   "source": [
    "#Now trying the NB classifier again, this time without dummy variables \n",
    "x_new = cars.iloc[:,:-1]"
   ]
  },
  {
   "cell_type": "code",
   "execution_count": 138,
   "metadata": {},
   "outputs": [],
   "source": [
    "from sklearn.preprocessing import LabelEncoder"
   ]
  },
  {
   "cell_type": "code",
   "execution_count": 139,
   "metadata": {},
   "outputs": [
    {
     "data": {
      "text/html": [
       "<div>\n",
       "<style scoped>\n",
       "    .dataframe tbody tr th:only-of-type {\n",
       "        vertical-align: middle;\n",
       "    }\n",
       "\n",
       "    .dataframe tbody tr th {\n",
       "        vertical-align: top;\n",
       "    }\n",
       "\n",
       "    .dataframe thead th {\n",
       "        text-align: right;\n",
       "    }\n",
       "</style>\n",
       "<table border=\"1\" class=\"dataframe\">\n",
       "  <thead>\n",
       "    <tr style=\"text-align: right;\">\n",
       "      <th></th>\n",
       "      <th>Buying</th>\n",
       "      <th>Maint</th>\n",
       "      <th>Doors</th>\n",
       "      <th>Persons</th>\n",
       "      <th>LugBoot</th>\n",
       "      <th>Safety</th>\n",
       "    </tr>\n",
       "  </thead>\n",
       "  <tbody>\n",
       "    <tr>\n",
       "      <th>0</th>\n",
       "      <td>3</td>\n",
       "      <td>3</td>\n",
       "      <td>0</td>\n",
       "      <td>0</td>\n",
       "      <td>2</td>\n",
       "      <td>2</td>\n",
       "    </tr>\n",
       "    <tr>\n",
       "      <th>1</th>\n",
       "      <td>3</td>\n",
       "      <td>3</td>\n",
       "      <td>0</td>\n",
       "      <td>0</td>\n",
       "      <td>2</td>\n",
       "      <td>0</td>\n",
       "    </tr>\n",
       "    <tr>\n",
       "      <th>2</th>\n",
       "      <td>3</td>\n",
       "      <td>3</td>\n",
       "      <td>0</td>\n",
       "      <td>0</td>\n",
       "      <td>1</td>\n",
       "      <td>1</td>\n",
       "    </tr>\n",
       "    <tr>\n",
       "      <th>3</th>\n",
       "      <td>3</td>\n",
       "      <td>3</td>\n",
       "      <td>0</td>\n",
       "      <td>0</td>\n",
       "      <td>1</td>\n",
       "      <td>2</td>\n",
       "    </tr>\n",
       "    <tr>\n",
       "      <th>4</th>\n",
       "      <td>3</td>\n",
       "      <td>3</td>\n",
       "      <td>0</td>\n",
       "      <td>0</td>\n",
       "      <td>1</td>\n",
       "      <td>0</td>\n",
       "    </tr>\n",
       "  </tbody>\n",
       "</table>\n",
       "</div>"
      ],
      "text/plain": [
       "   Buying  Maint  Doors  Persons  LugBoot  Safety\n",
       "0       3      3      0        0        2       2\n",
       "1       3      3      0        0        2       0\n",
       "2       3      3      0        0        1       1\n",
       "3       3      3      0        0        1       2\n",
       "4       3      3      0        0        1       0"
      ]
     },
     "execution_count": 139,
     "metadata": {},
     "output_type": "execute_result"
    }
   ],
   "source": [
    "lae = LabelEncoder()\n",
    "x_new=x_new.apply(lambda col: lae.fit_transform(col))\n",
    "x_new.head()"
   ]
  },
  {
   "cell_type": "code",
   "execution_count": 140,
   "metadata": {},
   "outputs": [],
   "source": [
    "x_new=x_new.values"
   ]
  },
  {
   "cell_type": "code",
   "execution_count": 141,
   "metadata": {},
   "outputs": [],
   "source": [
    "x_train_new, x_test_new= train_test_split(x_new, test_size = 0.25, random_state = 0)\n"
   ]
  },
  {
   "cell_type": "code",
   "execution_count": 142,
   "metadata": {},
   "outputs": [
    {
     "data": {
      "text/plain": [
       "GaussianNB(priors=None, var_smoothing=1e-09)"
      ]
     },
     "execution_count": 142,
     "metadata": {},
     "output_type": "execute_result"
    }
   ],
   "source": [
    "clf_new = GaussianNB(priors=None)\n",
    "clf_new.fit(x_train_new, y_train)"
   ]
  },
  {
   "cell_type": "code",
   "execution_count": 143,
   "metadata": {},
   "outputs": [
    {
     "data": {
      "text/plain": [
       "array(['unacc', 'unacc', 'unacc', 'unacc', 'unacc', 'acc', 'unacc', 'acc',\n",
       "       'unacc', 'unacc'], dtype=object)"
      ]
     },
     "execution_count": 143,
     "metadata": {},
     "output_type": "execute_result"
    }
   ],
   "source": [
    "y_train[:10]"
   ]
  },
  {
   "cell_type": "code",
   "execution_count": 144,
   "metadata": {},
   "outputs": [
    {
     "name": "stdout",
     "output_type": "stream",
     "text": [
      "Training Accuracy:  0.6447876447876448\n",
      "Testing Accuracy:  0.625\n",
      "[[  9   0  40  47]\n",
      " [  2   0   4  12]\n",
      " [  6   0 241  51]\n",
      " [  0   0   0  20]]\n",
      "              precision    recall  f1-score   support\n",
      "\n",
      "         acc       0.53      0.09      0.16        96\n",
      "        good       0.00      0.00      0.00        18\n",
      "       unacc       0.85      0.81      0.83       298\n",
      "       vgood       0.15      1.00      0.27        20\n",
      "\n",
      "    accuracy                           0.62       432\n",
      "   macro avg       0.38      0.48      0.31       432\n",
      "weighted avg       0.71      0.62      0.62       432\n",
      "\n"
     ]
    }
   ],
   "source": [
    "y_pred = clf_new.predict(x_test_new)\n",
    "f1_NB=f1_score(y_test,y_pred, average='macro')\n",
    "print(\"Training Accuracy: \",clf_new.score(x_train_new, y_train))\n",
    "print(\"Testing Accuracy: \", clf_new.score(x_test_new, y_test))\n",
    "cm = confusion_matrix(y_test, y_pred)\n",
    "print(cm)\n",
    "print(classification_report(y_test,y_pred))"
   ]
  },
  {
   "cell_type": "code",
   "execution_count": 149,
   "metadata": {},
   "outputs": [
    {
     "data": {
      "application/vnd.plotly.v1+json": {
       "config": {
        "plotlyServerURL": "https://plot.ly"
       },
       "data": [
        {
         "name": "f1_score",
         "type": "bar",
         "uid": "c7e1bd01-a671-4d62-adb9-2e5e1bd55f24",
         "x": [
          "Linear SVC",
          "Kernel SVC",
          "Logistic Regression",
          "Decision Tree Classifier",
          "Random Forest Classifier",
          "Naive Bayes Classifier"
         ],
         "y": [
          0.8438286813290754,
          0.5600266362252664,
          0.4893562216112081,
          0.7485593641331346,
          0.6666692323481116,
          0.31317921239444035
         ]
        }
       ],
       "layout": {}
      },
      "text/html": [
       "<div>\n",
       "        \n",
       "        \n",
       "            <div id=\"d286e002-83be-4c31-bc80-38b943d89773\" class=\"plotly-graph-div\" style=\"height:525px; width:100%;\"></div>\n",
       "            <script type=\"text/javascript\">\n",
       "                require([\"plotly\"], function(Plotly) {\n",
       "                    window.PLOTLYENV=window.PLOTLYENV || {};\n",
       "                    window.PLOTLYENV.BASE_URL='https://plot.ly';\n",
       "                    \n",
       "                if (document.getElementById(\"d286e002-83be-4c31-bc80-38b943d89773\")) {\n",
       "                    Plotly.newPlot(\n",
       "                        'd286e002-83be-4c31-bc80-38b943d89773',\n",
       "                        [{\"name\": \"f1_score\", \"type\": \"bar\", \"uid\": \"c7e1bd01-a671-4d62-adb9-2e5e1bd55f24\", \"x\": [\"Linear SVC\", \"Kernel SVC\", \"Logistic Regression\", \"Decision Tree Classifier\", \"Random Forest Classifier\", \"Naive Bayes Classifier\"], \"y\": [0.8438286813290754, 0.5600266362252664, 0.4893562216112081, 0.7485593641331346, 0.6666692323481116, 0.31317921239444035]}],\n",
       "                        {},\n",
       "                        {\"plotlyServerURL\": \"https://plot.ly\", \"responsive\": true}\n",
       "                    ).then(function(){\n",
       "                            \n",
       "var gd = document.getElementById('d286e002-83be-4c31-bc80-38b943d89773');\n",
       "var x = new MutationObserver(function (mutations, observer) {{\n",
       "        var display = window.getComputedStyle(gd).display;\n",
       "        if (!display || display === 'none') {{\n",
       "            console.log([gd, 'removed!']);\n",
       "            Plotly.purge(gd);\n",
       "            observer.disconnect();\n",
       "        }}\n",
       "}});\n",
       "\n",
       "// Listen for the removal of the full notebook cells\n",
       "var notebookContainer = gd.closest('#notebook-container');\n",
       "if (notebookContainer) {{\n",
       "    x.observe(notebookContainer, {childList: true});\n",
       "}}\n",
       "\n",
       "// Listen for the clearing of the current output cell\n",
       "var outputEl = gd.closest('.output');\n",
       "if (outputEl) {{\n",
       "    x.observe(outputEl, {childList: true});\n",
       "}}\n",
       "\n",
       "                        })\n",
       "                };\n",
       "                });\n",
       "            </script>\n",
       "        </div>"
      ]
     },
     "metadata": {},
     "output_type": "display_data"
    }
   ],
   "source": [
    "models=['Linear SVC', 'Kernel SVC','Logistic Regression','Decision Tree Classifier','Random Forest Classifier','Naive Bayes Classifier' ]\n",
    "fig = go.Figure(data=[\n",
    "    go.Bar(name='f1_score', x=models, y=[f1_SVC_Linear,f1_SVC_rbf,f1_LR,f1_DT,f1_RF,f1_NB])])\n",
    "fig.show()"
   ]
  },
  {
   "cell_type": "code",
   "execution_count": null,
   "metadata": {},
   "outputs": [],
   "source": []
  }
 ],
 "metadata": {
  "kernelspec": {
   "display_name": "Python 3",
   "language": "python",
   "name": "python3"
  },
  "language_info": {
   "codemirror_mode": {
    "name": "ipython",
    "version": 3
   },
   "file_extension": ".py",
   "mimetype": "text/x-python",
   "name": "python",
   "nbconvert_exporter": "python",
   "pygments_lexer": "ipython3",
   "version": "3.7.3"
  }
 },
 "nbformat": 4,
 "nbformat_minor": 2
}
